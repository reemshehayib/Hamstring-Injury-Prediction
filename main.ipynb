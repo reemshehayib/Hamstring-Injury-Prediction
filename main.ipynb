{
  "cells": [
    {
      "cell_type": "code",
      "execution_count": null,
      "metadata": {
        "id": "tqNInlGVkqor"
      },
      "outputs": [],
      "source": [
        "import pandas as pd\n",
        "import numpy as np\n",
        "from sklearn.preprocessing import StandardScaler, MinMaxScaler\n",
        "from sklearn.model_selection import train_test_split, GridSearchCV, KFold\n",
        "from sklearn.neighbors import KNeighborsClassifier\n",
        "from sklearn.svm import SVC\n",
        "from sklearn.metrics import classification_report, confusion_matrix, recall_score, f1_score\n",
        "from sklearn.linear_model import LogisticRegression\n",
        "from sklearn.model_selection import train_test_split, GridSearchCV\n",
        "from sklearn.metrics import accuracy_score, confusion_matrix\n",
        "from scipy.stats import uniform"
      ]
    },
    {
      "cell_type": "markdown",
      "metadata": {
        "id": "QH8VhMA5lTLj"
      },
      "source": [
        "# Preprocessing"
      ]
    },
    {
      "cell_type": "code",
      "execution_count": null,
      "metadata": {
        "colab": {
          "base_uri": "https://localhost:8080/",
          "height": 255
        },
        "id": "7BoLMiyRkqot",
        "outputId": "aeb903b7-67e2-42f5-92c0-44a5582dc97f"
      },
      "outputs": [
        {
          "data": {
            "application/vnd.google.colaboratory.intrinsic+json": {
              "type": "dataframe",
              "variable_name": "df"
            },
            "text/html": [
              "\n",
              "  <div id=\"df-2fc1e32e-c7af-49c5-abde-76157b86355d\" class=\"colab-df-container\">\n",
              "    <div>\n",
              "<style scoped>\n",
              "    .dataframe tbody tr th:only-of-type {\n",
              "        vertical-align: middle;\n",
              "    }\n",
              "\n",
              "    .dataframe tbody tr th {\n",
              "        vertical-align: top;\n",
              "    }\n",
              "\n",
              "    .dataframe thead th {\n",
              "        text-align: right;\n",
              "    }\n",
              "</style>\n",
              "<table border=\"1\" class=\"dataframe\">\n",
              "  <thead>\n",
              "    <tr style=\"text-align: right;\">\n",
              "      <th></th>\n",
              "      <th>0</th>\n",
              "      <th>1</th>\n",
              "      <th>2</th>\n",
              "      <th>3</th>\n",
              "      <th>4</th>\n",
              "      <th>5</th>\n",
              "      <th>6</th>\n",
              "      <th>7</th>\n",
              "      <th>8</th>\n",
              "      <th>9</th>\n",
              "      <th>...</th>\n",
              "      <th>200</th>\n",
              "      <th>201</th>\n",
              "      <th>202</th>\n",
              "      <th>203</th>\n",
              "      <th>204</th>\n",
              "      <th>205</th>\n",
              "      <th>206</th>\n",
              "      <th>207</th>\n",
              "      <th>age</th>\n",
              "      <th>case</th>\n",
              "    </tr>\n",
              "  </thead>\n",
              "  <tbody>\n",
              "    <tr>\n",
              "      <th>0</th>\n",
              "      <td>0.019818</td>\n",
              "      <td>0.023967</td>\n",
              "      <td>0.029276</td>\n",
              "      <td>-0.006681</td>\n",
              "      <td>-0.071343</td>\n",
              "      <td>-0.033920</td>\n",
              "      <td>-0.038496</td>\n",
              "      <td>-0.060975</td>\n",
              "      <td>-0.000455</td>\n",
              "      <td>0.021085</td>\n",
              "      <td>...</td>\n",
              "      <td>-0.070779</td>\n",
              "      <td>-0.035411</td>\n",
              "      <td>-0.043172</td>\n",
              "      <td>-0.069250</td>\n",
              "      <td>0.001270</td>\n",
              "      <td>0.028683</td>\n",
              "      <td>0.035498</td>\n",
              "      <td>0.028100</td>\n",
              "      <td>63</td>\n",
              "      <td>0</td>\n",
              "    </tr>\n",
              "    <tr>\n",
              "      <th>1</th>\n",
              "      <td>0.020079</td>\n",
              "      <td>0.023657</td>\n",
              "      <td>0.028958</td>\n",
              "      <td>-0.002345</td>\n",
              "      <td>-0.067365</td>\n",
              "      <td>-0.030564</td>\n",
              "      <td>-0.039080</td>\n",
              "      <td>-0.076808</td>\n",
              "      <td>-0.000662</td>\n",
              "      <td>0.022751</td>\n",
              "      <td>...</td>\n",
              "      <td>-0.069595</td>\n",
              "      <td>-0.032711</td>\n",
              "      <td>-0.045286</td>\n",
              "      <td>-0.091273</td>\n",
              "      <td>0.000954</td>\n",
              "      <td>0.032006</td>\n",
              "      <td>0.039094</td>\n",
              "      <td>0.029718</td>\n",
              "      <td>63</td>\n",
              "      <td>0</td>\n",
              "    </tr>\n",
              "    <tr>\n",
              "      <th>2</th>\n",
              "      <td>0.014080</td>\n",
              "      <td>0.018367</td>\n",
              "      <td>0.020782</td>\n",
              "      <td>0.001239</td>\n",
              "      <td>-0.039494</td>\n",
              "      <td>-0.030699</td>\n",
              "      <td>-0.016737</td>\n",
              "      <td>-0.037789</td>\n",
              "      <td>-0.030324</td>\n",
              "      <td>0.008660</td>\n",
              "      <td>...</td>\n",
              "      <td>-0.039816</td>\n",
              "      <td>-0.032797</td>\n",
              "      <td>-0.019426</td>\n",
              "      <td>-0.048459</td>\n",
              "      <td>-0.036536</td>\n",
              "      <td>0.014475</td>\n",
              "      <td>0.024109</td>\n",
              "      <td>0.023303</td>\n",
              "      <td>23</td>\n",
              "      <td>0</td>\n",
              "    </tr>\n",
              "    <tr>\n",
              "      <th>3</th>\n",
              "      <td>0.008646</td>\n",
              "      <td>0.010663</td>\n",
              "      <td>0.011732</td>\n",
              "      <td>0.006878</td>\n",
              "      <td>-0.002025</td>\n",
              "      <td>-0.013261</td>\n",
              "      <td>-0.025155</td>\n",
              "      <td>-0.035414</td>\n",
              "      <td>-0.018992</td>\n",
              "      <td>0.010588</td>\n",
              "      <td>...</td>\n",
              "      <td>-0.002679</td>\n",
              "      <td>-0.012373</td>\n",
              "      <td>-0.023788</td>\n",
              "      <td>-0.035602</td>\n",
              "      <td>-0.017267</td>\n",
              "      <td>0.013834</td>\n",
              "      <td>0.011803</td>\n",
              "      <td>0.009350</td>\n",
              "      <td>53</td>\n",
              "      <td>1</td>\n",
              "    </tr>\n",
              "    <tr>\n",
              "      <th>4</th>\n",
              "      <td>0.018779</td>\n",
              "      <td>0.024554</td>\n",
              "      <td>0.027306</td>\n",
              "      <td>0.002198</td>\n",
              "      <td>-0.043008</td>\n",
              "      <td>-0.059243</td>\n",
              "      <td>-0.022734</td>\n",
              "      <td>-0.044385</td>\n",
              "      <td>-0.036621</td>\n",
              "      <td>0.011433</td>\n",
              "      <td>...</td>\n",
              "      <td>-0.044551</td>\n",
              "      <td>-0.063010</td>\n",
              "      <td>-0.025162</td>\n",
              "      <td>-0.057268</td>\n",
              "      <td>-0.043719</td>\n",
              "      <td>0.019238</td>\n",
              "      <td>0.032469</td>\n",
              "      <td>0.030944</td>\n",
              "      <td>23</td>\n",
              "      <td>0</td>\n",
              "    </tr>\n",
              "  </tbody>\n",
              "</table>\n",
              "<p>5 rows × 210 columns</p>\n",
              "</div>\n",
              "    <div class=\"colab-df-buttons\">\n",
              "\n",
              "  <div class=\"colab-df-container\">\n",
              "    <button class=\"colab-df-convert\" onclick=\"convertToInteractive('df-2fc1e32e-c7af-49c5-abde-76157b86355d')\"\n",
              "            title=\"Convert this dataframe to an interactive table.\"\n",
              "            style=\"display:none;\">\n",
              "\n",
              "  <svg xmlns=\"http://www.w3.org/2000/svg\" height=\"24px\" viewBox=\"0 -960 960 960\">\n",
              "    <path d=\"M120-120v-720h720v720H120Zm60-500h600v-160H180v160Zm220 220h160v-160H400v160Zm0 220h160v-160H400v160ZM180-400h160v-160H180v160Zm440 0h160v-160H620v160ZM180-180h160v-160H180v160Zm440 0h160v-160H620v160Z\"/>\n",
              "  </svg>\n",
              "    </button>\n",
              "\n",
              "  <style>\n",
              "    .colab-df-container {\n",
              "      display:flex;\n",
              "      gap: 12px;\n",
              "    }\n",
              "\n",
              "    .colab-df-convert {\n",
              "      background-color: #E8F0FE;\n",
              "      border: none;\n",
              "      border-radius: 50%;\n",
              "      cursor: pointer;\n",
              "      display: none;\n",
              "      fill: #1967D2;\n",
              "      height: 32px;\n",
              "      padding: 0 0 0 0;\n",
              "      width: 32px;\n",
              "    }\n",
              "\n",
              "    .colab-df-convert:hover {\n",
              "      background-color: #E2EBFA;\n",
              "      box-shadow: 0px 1px 2px rgba(60, 64, 67, 0.3), 0px 1px 3px 1px rgba(60, 64, 67, 0.15);\n",
              "      fill: #174EA6;\n",
              "    }\n",
              "\n",
              "    .colab-df-buttons div {\n",
              "      margin-bottom: 4px;\n",
              "    }\n",
              "\n",
              "    [theme=dark] .colab-df-convert {\n",
              "      background-color: #3B4455;\n",
              "      fill: #D2E3FC;\n",
              "    }\n",
              "\n",
              "    [theme=dark] .colab-df-convert:hover {\n",
              "      background-color: #434B5C;\n",
              "      box-shadow: 0px 1px 3px 1px rgba(0, 0, 0, 0.15);\n",
              "      filter: drop-shadow(0px 1px 2px rgba(0, 0, 0, 0.3));\n",
              "      fill: #FFFFFF;\n",
              "    }\n",
              "  </style>\n",
              "\n",
              "    <script>\n",
              "      const buttonEl =\n",
              "        document.querySelector('#df-2fc1e32e-c7af-49c5-abde-76157b86355d button.colab-df-convert');\n",
              "      buttonEl.style.display =\n",
              "        google.colab.kernel.accessAllowed ? 'block' : 'none';\n",
              "\n",
              "      async function convertToInteractive(key) {\n",
              "        const element = document.querySelector('#df-2fc1e32e-c7af-49c5-abde-76157b86355d');\n",
              "        const dataTable =\n",
              "          await google.colab.kernel.invokeFunction('convertToInteractive',\n",
              "                                                    [key], {});\n",
              "        if (!dataTable) return;\n",
              "\n",
              "        const docLinkHtml = 'Like what you see? Visit the ' +\n",
              "          '<a target=\"_blank\" href=https://colab.research.google.com/notebooks/data_table.ipynb>data table notebook</a>'\n",
              "          + ' to learn more about interactive tables.';\n",
              "        element.innerHTML = '';\n",
              "        dataTable['output_type'] = 'display_data';\n",
              "        await google.colab.output.renderOutput(dataTable, element);\n",
              "        const docLink = document.createElement('div');\n",
              "        docLink.innerHTML = docLinkHtml;\n",
              "        element.appendChild(docLink);\n",
              "      }\n",
              "    </script>\n",
              "  </div>\n",
              "\n",
              "\n",
              "<div id=\"df-dfaa7801-6835-4447-90d4-5a60304af404\">\n",
              "  <button class=\"colab-df-quickchart\" onclick=\"quickchart('df-dfaa7801-6835-4447-90d4-5a60304af404')\"\n",
              "            title=\"Suggest charts\"\n",
              "            style=\"display:none;\">\n",
              "\n",
              "<svg xmlns=\"http://www.w3.org/2000/svg\" height=\"24px\"viewBox=\"0 0 24 24\"\n",
              "     width=\"24px\">\n",
              "    <g>\n",
              "        <path d=\"M19 3H5c-1.1 0-2 .9-2 2v14c0 1.1.9 2 2 2h14c1.1 0 2-.9 2-2V5c0-1.1-.9-2-2-2zM9 17H7v-7h2v7zm4 0h-2V7h2v10zm4 0h-2v-4h2v4z\"/>\n",
              "    </g>\n",
              "</svg>\n",
              "  </button>\n",
              "\n",
              "<style>\n",
              "  .colab-df-quickchart {\n",
              "      --bg-color: #E8F0FE;\n",
              "      --fill-color: #1967D2;\n",
              "      --hover-bg-color: #E2EBFA;\n",
              "      --hover-fill-color: #174EA6;\n",
              "      --disabled-fill-color: #AAA;\n",
              "      --disabled-bg-color: #DDD;\n",
              "  }\n",
              "\n",
              "  [theme=dark] .colab-df-quickchart {\n",
              "      --bg-color: #3B4455;\n",
              "      --fill-color: #D2E3FC;\n",
              "      --hover-bg-color: #434B5C;\n",
              "      --hover-fill-color: #FFFFFF;\n",
              "      --disabled-bg-color: #3B4455;\n",
              "      --disabled-fill-color: #666;\n",
              "  }\n",
              "\n",
              "  .colab-df-quickchart {\n",
              "    background-color: var(--bg-color);\n",
              "    border: none;\n",
              "    border-radius: 50%;\n",
              "    cursor: pointer;\n",
              "    display: none;\n",
              "    fill: var(--fill-color);\n",
              "    height: 32px;\n",
              "    padding: 0;\n",
              "    width: 32px;\n",
              "  }\n",
              "\n",
              "  .colab-df-quickchart:hover {\n",
              "    background-color: var(--hover-bg-color);\n",
              "    box-shadow: 0 1px 2px rgba(60, 64, 67, 0.3), 0 1px 3px 1px rgba(60, 64, 67, 0.15);\n",
              "    fill: var(--button-hover-fill-color);\n",
              "  }\n",
              "\n",
              "  .colab-df-quickchart-complete:disabled,\n",
              "  .colab-df-quickchart-complete:disabled:hover {\n",
              "    background-color: var(--disabled-bg-color);\n",
              "    fill: var(--disabled-fill-color);\n",
              "    box-shadow: none;\n",
              "  }\n",
              "\n",
              "  .colab-df-spinner {\n",
              "    border: 2px solid var(--fill-color);\n",
              "    border-color: transparent;\n",
              "    border-bottom-color: var(--fill-color);\n",
              "    animation:\n",
              "      spin 1s steps(1) infinite;\n",
              "  }\n",
              "\n",
              "  @keyframes spin {\n",
              "    0% {\n",
              "      border-color: transparent;\n",
              "      border-bottom-color: var(--fill-color);\n",
              "      border-left-color: var(--fill-color);\n",
              "    }\n",
              "    20% {\n",
              "      border-color: transparent;\n",
              "      border-left-color: var(--fill-color);\n",
              "      border-top-color: var(--fill-color);\n",
              "    }\n",
              "    30% {\n",
              "      border-color: transparent;\n",
              "      border-left-color: var(--fill-color);\n",
              "      border-top-color: var(--fill-color);\n",
              "      border-right-color: var(--fill-color);\n",
              "    }\n",
              "    40% {\n",
              "      border-color: transparent;\n",
              "      border-right-color: var(--fill-color);\n",
              "      border-top-color: var(--fill-color);\n",
              "    }\n",
              "    60% {\n",
              "      border-color: transparent;\n",
              "      border-right-color: var(--fill-color);\n",
              "    }\n",
              "    80% {\n",
              "      border-color: transparent;\n",
              "      border-right-color: var(--fill-color);\n",
              "      border-bottom-color: var(--fill-color);\n",
              "    }\n",
              "    90% {\n",
              "      border-color: transparent;\n",
              "      border-bottom-color: var(--fill-color);\n",
              "    }\n",
              "  }\n",
              "</style>\n",
              "\n",
              "  <script>\n",
              "    async function quickchart(key) {\n",
              "      const quickchartButtonEl =\n",
              "        document.querySelector('#' + key + ' button');\n",
              "      quickchartButtonEl.disabled = true;  // To prevent multiple clicks.\n",
              "      quickchartButtonEl.classList.add('colab-df-spinner');\n",
              "      try {\n",
              "        const charts = await google.colab.kernel.invokeFunction(\n",
              "            'suggestCharts', [key], {});\n",
              "      } catch (error) {\n",
              "        console.error('Error during call to suggestCharts:', error);\n",
              "      }\n",
              "      quickchartButtonEl.classList.remove('colab-df-spinner');\n",
              "      quickchartButtonEl.classList.add('colab-df-quickchart-complete');\n",
              "    }\n",
              "    (() => {\n",
              "      let quickchartButtonEl =\n",
              "        document.querySelector('#df-dfaa7801-6835-4447-90d4-5a60304af404 button');\n",
              "      quickchartButtonEl.style.display =\n",
              "        google.colab.kernel.accessAllowed ? 'block' : 'none';\n",
              "    })();\n",
              "  </script>\n",
              "</div>\n",
              "\n",
              "    </div>\n",
              "  </div>\n"
            ],
            "text/plain": [
              "          0         1         2         3         4         5         6  \\\n",
              "0  0.019818  0.023967  0.029276 -0.006681 -0.071343 -0.033920 -0.038496   \n",
              "1  0.020079  0.023657  0.028958 -0.002345 -0.067365 -0.030564 -0.039080   \n",
              "2  0.014080  0.018367  0.020782  0.001239 -0.039494 -0.030699 -0.016737   \n",
              "3  0.008646  0.010663  0.011732  0.006878 -0.002025 -0.013261 -0.025155   \n",
              "4  0.018779  0.024554  0.027306  0.002198 -0.043008 -0.059243 -0.022734   \n",
              "\n",
              "          7         8         9  ...       200       201       202       203  \\\n",
              "0 -0.060975 -0.000455  0.021085  ... -0.070779 -0.035411 -0.043172 -0.069250   \n",
              "1 -0.076808 -0.000662  0.022751  ... -0.069595 -0.032711 -0.045286 -0.091273   \n",
              "2 -0.037789 -0.030324  0.008660  ... -0.039816 -0.032797 -0.019426 -0.048459   \n",
              "3 -0.035414 -0.018992  0.010588  ... -0.002679 -0.012373 -0.023788 -0.035602   \n",
              "4 -0.044385 -0.036621  0.011433  ... -0.044551 -0.063010 -0.025162 -0.057268   \n",
              "\n",
              "        204       205       206       207  age  case  \n",
              "0  0.001270  0.028683  0.035498  0.028100   63     0  \n",
              "1  0.000954  0.032006  0.039094  0.029718   63     0  \n",
              "2 -0.036536  0.014475  0.024109  0.023303   23     0  \n",
              "3 -0.017267  0.013834  0.011803  0.009350   53     1  \n",
              "4 -0.043719  0.019238  0.032469  0.030944   23     0  \n",
              "\n",
              "[5 rows x 210 columns]"
            ]
          },
          "execution_count": 2,
          "metadata": {},
          "output_type": "execute_result"
        }
      ],
      "source": [
        "df = pd.read_csv('dataset.csv')\n",
        "df.head()"
      ]
    },
    {
      "cell_type": "code",
      "execution_count": null,
      "metadata": {
        "colab": {
          "base_uri": "https://localhost:8080/"
        },
        "id": "QSJeaoz2kqou",
        "outputId": "95113c74-0236-4112-d497-8afb86c6c45c"
      },
      "outputs": [
        {
          "name": "stdout",
          "output_type": "stream",
          "text": [
            "(800, 210)\n",
            "0       0\n",
            "1       0\n",
            "2       0\n",
            "3       0\n",
            "4       0\n",
            "       ..\n",
            "205     0\n",
            "206     0\n",
            "207     0\n",
            "age     0\n",
            "case    0\n",
            "Length: 210, dtype: int64\n"
          ]
        }
      ],
      "source": [
        "print(df.shape)\n",
        "print(df.isna().sum())"
      ]
    },
    {
      "cell_type": "code",
      "execution_count": null,
      "metadata": {
        "id": "cU-B3pPekqov"
      },
      "outputs": [],
      "source": [
        "x = df.drop('case', axis = 1)\n",
        "y = df['case']\n",
        "x_train, x_test, y_train, y_test = train_test_split(x, y , random_state = 42, test_size=0.3)"
      ]
    },
    {
      "cell_type": "code",
      "execution_count": null,
      "metadata": {
        "id": "yBP2yjp0lYFK"
      },
      "outputs": [],
      "source": [
        "# Random Forest"
      ]
    },
    {
      "cell_type": "code",
      "execution_count": null,
      "metadata": {
        "id": "Q8ktp78fkqov"
      },
      "outputs": [],
      "source": [
        "from sklearn.ensemble import RandomForestClassifier\n",
        "from sklearn.metrics import accuracy_score, confusion_matrix, precision_score, recall_score, f1_score, ConfusionMatrixDisplay\n",
        "from sklearn.model_selection import RandomizedSearchCV, train_test_split\n",
        "from scipy.stats import randint\n",
        "\n",
        "# Define the parameter grid to search\n",
        "param_grid = {\n",
        "    'n_estimators': [100, 200, 300],\n",
        "    'max_depth': [None, 10, 20],\n",
        "    'min_samples_split': [2, 5, 10],\n",
        "    'min_samples_leaf': [1, 2, 4, 6, 8]\n",
        "}\n",
        "\n",
        "# Initialize Random Forest classifier\n",
        "random_forest = RandomForestClassifier(random_state=4, class_weight='balanced')\n",
        "\n",
        "kf = KFold(n_splits = 5, shuffle = True, random_state = 10)\n",
        "\n",
        "# Initialize GridSearchCV\n",
        "grid_search_RF = GridSearchCV(estimator=random_forest, param_grid=param_grid, cv=kf, n_jobs=-1, verbose=2)"
      ]
    },
    {
      "cell_type": "code",
      "execution_count": null,
      "metadata": {
        "colab": {
          "background_save": true,
          "base_uri": "https://localhost:8080/"
        },
        "id": "lhAotUwekqov",
        "outputId": "1494827a-d194-4169-e954-f6580a0167da"
      },
      "outputs": [
        {
          "name": "stdout",
          "output_type": "stream",
          "text": [
            "Fitting 5 folds for each of 135 candidates, totalling 675 fits\n",
            "Optimal number of params: {'max_depth': None, 'min_samples_leaf': 1, 'min_samples_split': 2, 'n_estimators': 200}\n",
            "Best score: 0.9892857142857142\n"
          ]
        }
      ],
      "source": [
        "grid_search_RF.fit(x_train, y_train)\n",
        "\n",
        "RF_standard_noFeaturesRemoved_best_params = grid_search_RF.best_params_\n",
        "RF_standard_noFeaturesRemoved_best_score = grid_search_RF.best_score_\n",
        "\n",
        "print('Optimal number of params:', RF_standard_noFeaturesRemoved_best_params)\n",
        "print('Best score:', RF_standard_noFeaturesRemoved_best_score)"
      ]
    },
    {
      "cell_type": "code",
      "execution_count": null,
      "metadata": {
        "colab": {
          "background_save": true
        },
        "id": "FTuEqYjSkqow",
        "outputId": "7d484192-ee3e-40e7-e9b0-d8587a5fa651"
      },
      "outputs": [
        {
          "name": "stdout",
          "output_type": "stream",
          "text": [
            "Accuracy of Random Forest classifier: 0.9875\n",
            "Recall of Random Forest classifier: 0.9743589743589743\n",
            "F1 Score of Random Forest classifier: 0.9870129870129869\n",
            "Classification Report:\n",
            "              precision    recall  f1-score   support\n",
            "\n",
            "           0       0.98      1.00      0.99       123\n",
            "           1       1.00      0.97      0.99       117\n",
            "\n",
            "    accuracy                           0.99       240\n",
            "   macro avg       0.99      0.99      0.99       240\n",
            "weighted avg       0.99      0.99      0.99       240\n",
            "\n",
            "Confusion Matrix:\n",
            "[[123   0]\n",
            " [  3 114]]\n"
          ]
        }
      ],
      "source": [
        "# Predict on the test set\n",
        "y_pred_rf = grid_search_RF.predict(x_test)\n",
        "\n",
        "# Evaluate the model\n",
        "accuracy_rf_1 = accuracy_score(y_test, y_pred_rf)\n",
        "print(\"Accuracy of Random Forest classifier:\", accuracy_rf_1)\n",
        "recall_rf_1 = recall_score(y_test, y_pred_rf)\n",
        "print(\"Recall of Random Forest classifier:\", recall_rf_1)\n",
        "f1score_rf_1 = f1_score(y_test, y_pred_rf)\n",
        "print(\"F1 Score of Random Forest classifier:\", f1score_rf_1)\n",
        "\n",
        "# Display classification report and confusion matrix\n",
        "print(\"Classification Report:\")\n",
        "print(classification_report(y_test, y_pred_rf))\n",
        "print(\"Confusion Matrix:\")\n",
        "print(confusion_matrix(y_test, y_pred_rf))"
      ]
    },
    {
      "cell_type": "markdown",
      "metadata": {
        "id": "bqZde01JlasX"
      },
      "source": [
        "# SVM"
      ]
    },
    {
      "cell_type": "code",
      "execution_count": null,
      "metadata": {
        "colab": {
          "background_save": true
        },
        "id": "mLJXXcnekqow"
      },
      "outputs": [],
      "source": [
        "svm = SVC()\n",
        "\n",
        "kf = KFold(n_splits = 5, shuffle = True, random_state = 42)\n",
        "param_grid = {'C': [0.0001, 0.001, 0.1, 1],\n",
        "              'gamma': [0.01, 0.1, 1, 10],\n",
        "              'kernel': ['linear', 'rbf']}\n",
        "\n",
        "svm_gridsearchcv = GridSearchCV(svm, param_grid, cv=kf )"
      ]
    },
    {
      "cell_type": "code",
      "execution_count": null,
      "metadata": {
        "colab": {
          "background_save": true
        },
        "id": "bqvZMmgEkqow",
        "outputId": "20317909-27ca-4ba4-9869-1f5504083d9b"
      },
      "outputs": [
        {
          "name": "stdout",
          "output_type": "stream",
          "text": [
            "Optimal params: {'C': 1, 'gamma': 10, 'kernel': 'rbf'}\n",
            "Best score: 0.9946428571428572\n"
          ]
        }
      ],
      "source": [
        "svm_gridsearchcv.fit(x_train, y_train)\n",
        "\n",
        "svm_standard_noFeaturesRemoved_best_params = svm_gridsearchcv.best_params_\n",
        "svm_standard_noFeaturesRemoved_best_score = svm_gridsearchcv.best_score_\n",
        "\n",
        "print('Optimal params:', svm_standard_noFeaturesRemoved_best_params)\n",
        "print('Best score:', svm_standard_noFeaturesRemoved_best_score)"
      ]
    },
    {
      "cell_type": "code",
      "execution_count": null,
      "metadata": {
        "colab": {
          "background_save": true
        },
        "id": "mSCYO6pRkqox",
        "outputId": "05d088a7-3a1b-4e90-ea6f-aaab542a5fa3"
      },
      "outputs": [
        {
          "name": "stdout",
          "output_type": "stream",
          "text": [
            "Accuracy of SVM classifier: 0.9875\n",
            "Recall of SVM classifier: 0.9743589743589743\n",
            "F1 of SVM: 0.9870129870129869\n",
            "\n",
            "Confusion Matrix:\n",
            "[[123   0]\n",
            " [  3 114]]\n",
            "\n",
            "Classification Report:\n",
            "              precision    recall  f1-score   support\n",
            "\n",
            "           0       0.98      1.00      0.99       123\n",
            "           1       1.00      0.97      0.99       117\n",
            "\n",
            "    accuracy                           0.99       240\n",
            "   macro avg       0.99      0.99      0.99       240\n",
            "weighted avg       0.99      0.99      0.99       240\n",
            "\n"
          ]
        }
      ],
      "source": [
        "y_pred = svm_gridsearchcv.predict(x_test)\n",
        "\n",
        "svm_standard_noFeaturesRemoved_accuracy_score = svm_gridsearchcv.score(x_test, y_test)\n",
        "print('Accuracy of SVM classifier:', svm_standard_noFeaturesRemoved_accuracy_score)\n",
        "\n",
        "svm_standard_noFeaturesRemoved_recall_score = recall_score(y_test, y_pred)\n",
        "print(\"Recall of SVM classifier:\", svm_standard_noFeaturesRemoved_recall_score)\n",
        "\n",
        "svm_standard_noFeaturesRemoved_f1_score = f1_score(y_test, y_pred)\n",
        "print(\"F1 of SVM:\", svm_standard_noFeaturesRemoved_f1_score)\n",
        "\n",
        "print('\\nConfusion Matrix:')\n",
        "print(confusion_matrix(y_test, y_pred))\n",
        "print('\\nClassification Report:')\n",
        "print(classification_report(y_test, y_pred))"
      ]
    },
    {
      "cell_type": "markdown",
      "metadata": {
        "id": "MFJPJ4C4lfAp"
      },
      "source": [
        "# Logistic Regression"
      ]
    },
    {
      "cell_type": "code",
      "execution_count": null,
      "metadata": {
        "colab": {
          "background_save": true
        },
        "id": "p3pY_FPslg7g"
      },
      "outputs": [],
      "source": [
        "logistic_regression = LogisticRegression(max_iter=1000)\n",
        "\n",
        "param_grid = [\n",
        "    {'solver' : ['newton-cg'],\n",
        "      'penalty' : ['l2'],\n",
        "      'max_iter' : [50,100,200,500,1000,2500],\n",
        "      'C' : [0.001, 0.01, 0.1, 1, 10, 100, 1000]},\n",
        "]\n",
        "\n",
        "kf = KFold(n_splits = 5, shuffle = True, random_state = 4)\n",
        "\n",
        "logistic_regression_grid_search = GridSearchCV(logistic_regression, param_grid=param_grid, cv=kf, error_score='raise')"
      ]
    },
    {
      "cell_type": "code",
      "execution_count": null,
      "metadata": {
        "colab": {
          "background_save": true
        },
        "id": "dNp9mMcGlqaF",
        "outputId": "40c7dfbc-23f9-430c-a95a-47018af84d1e"
      },
      "outputs": [
        {
          "name": "stdout",
          "output_type": "stream",
          "text": [
            "Optimal number of params: {'C': 1000, 'max_iter': 50, 'penalty': 'l2', 'solver': 'newton-cg'}\n",
            "Best score: 0.9446428571428571\n"
          ]
        }
      ],
      "source": [
        "logistic_regression_grid_search.fit(x_train, y_train)\n",
        "\n",
        "logistic_regression_standard_noFeaturesRemoved_best_params = logistic_regression_grid_search.best_params_\n",
        "logistic_regression_standard_noFeaturesRemoved_best_score = logistic_regression_grid_search.best_score_\n",
        "\n",
        "print('Optimal number of params:', logistic_regression_standard_noFeaturesRemoved_best_params)\n",
        "print('Best score:', logistic_regression_standard_noFeaturesRemoved_best_score)"
      ]
    },
    {
      "cell_type": "code",
      "execution_count": null,
      "metadata": {
        "colab": {
          "base_uri": "https://localhost:8080/"
        },
        "id": "f9cdvtshlsQR",
        "outputId": "497848e7-2957-4b75-8692-5c40286896e2"
      },
      "outputs": [
        {
          "output_type": "stream",
          "name": "stdout",
          "text": [
            "Accuracy of Logistic Regression classifier: 0.9708333333333333\n",
            "Recall of Logistic Regression classifier: 0.9572649572649573\n",
            "F1 Score of Logistic Regression classifier: 0.9696969696969696\n",
            "Classification Report:\n",
            "              precision    recall  f1-score   support\n",
            "\n",
            "           0       0.96      0.98      0.97       123\n",
            "           1       0.98      0.96      0.97       117\n",
            "\n",
            "    accuracy                           0.97       240\n",
            "   macro avg       0.97      0.97      0.97       240\n",
            "weighted avg       0.97      0.97      0.97       240\n",
            "\n",
            "Confusion Matrix:\n",
            "[[121   2]\n",
            " [  5 112]]\n"
          ]
        }
      ],
      "source": [
        "# Predict on the test set\n",
        "y_pred_logistic_regression = logistic_regression_grid_search.predict(x_test)\n",
        "\n",
        "# Evaluate the model\n",
        "accuracy_logreg_1 = accuracy_score(y_test, y_pred_logistic_regression)\n",
        "print(\"Accuracy of Logistic Regression classifier:\", accuracy_logreg_1)\n",
        "recall_logreg_1 = recall_score(y_test, y_pred_logistic_regression)\n",
        "print(\"Recall of Logistic Regression classifier:\", recall_logreg_1)\n",
        "f1score_logreg_1 = f1_score(y_test, y_pred_logistic_regression)\n",
        "print(\"F1 Score of Logistic Regression classifier:\", f1score_logreg_1)\n",
        "\n",
        "# Display classification report and confusion matrix\n",
        "print(\"Classification Report:\")\n",
        "print(classification_report(y_test, y_pred_logistic_regression))\n",
        "print(\"Confusion Matrix:\")\n",
        "print(confusion_matrix(y_test, y_pred_logistic_regression))"
      ]
    }
  ],
  "metadata": {
    "colab": {
      "provenance": []
    },
    "kernelspec": {
      "display_name": "Python 3",
      "language": "python",
      "name": "python3"
    },
    "language_info": {
      "codemirror_mode": {
        "name": "ipython",
        "version": 3
      },
      "file_extension": ".py",
      "mimetype": "text/x-python",
      "name": "python",
      "nbconvert_exporter": "python",
      "pygments_lexer": "ipython3",
      "version": "3.11.9"
    }
  },
  "nbformat": 4,
  "nbformat_minor": 0
}
