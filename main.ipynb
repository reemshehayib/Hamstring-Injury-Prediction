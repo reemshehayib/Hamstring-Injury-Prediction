{
 "cells": [
  {
   "cell_type": "code",
   "execution_count": 24,
   "metadata": {},
   "outputs": [],
   "source": [
    "import pandas as pd\n",
    "import numpy as np\n",
    "from sklearn.preprocessing import StandardScaler, MinMaxScaler\n",
    "from sklearn.model_selection import train_test_split, GridSearchCV, KFold\n",
    "from sklearn.neighbors import KNeighborsClassifier\n",
    "from sklearn.svm import SVC\n",
    "from sklearn.metrics import classification_report, confusion_matrix, recall_score, f1_score\n",
    "from sklearn.ensemble import RandomForestClassifier\n",
    "from sklearn.metrics import accuracy_score, confusion_matrix, precision_score, recall_score, f1_score, ConfusionMatrixDisplay\n",
    "from sklearn.model_selection import RandomizedSearchCV, train_test_split\n",
    "from scipy.stats import randint"
   ]
  },
  {
   "cell_type": "markdown",
   "metadata": {},
   "source": [
    "# Pre-Processing"
   ]
  },
  {
   "cell_type": "code",
   "execution_count": 25,
   "metadata": {},
   "outputs": [
    {
     "data": {
      "text/html": [
       "<div>\n",
       "<style scoped>\n",
       "    .dataframe tbody tr th:only-of-type {\n",
       "        vertical-align: middle;\n",
       "    }\n",
       "\n",
       "    .dataframe tbody tr th {\n",
       "        vertical-align: top;\n",
       "    }\n",
       "\n",
       "    .dataframe thead th {\n",
       "        text-align: right;\n",
       "    }\n",
       "</style>\n",
       "<table border=\"1\" class=\"dataframe\">\n",
       "  <thead>\n",
       "    <tr style=\"text-align: right;\">\n",
       "      <th></th>\n",
       "      <th>rms_feat</th>\n",
       "      <th>integral_signal</th>\n",
       "      <th>zero_crossings</th>\n",
       "      <th>waveform_length</th>\n",
       "      <th>auto_regressive_coefficients</th>\n",
       "      <th>temporal_moment</th>\n",
       "      <th>avg_amp_change</th>\n",
       "      <th>min_value</th>\n",
       "      <th>max_value</th>\n",
       "      <th>variance</th>\n",
       "      <th>log_detector</th>\n",
       "      <th>linear_env</th>\n",
       "      <th>v_order</th>\n",
       "      <th>modified_mav</th>\n",
       "      <th>skewness</th>\n",
       "      <th>fourier_series</th>\n",
       "      <th>status</th>\n",
       "      <th>Age</th>\n",
       "    </tr>\n",
       "  </thead>\n",
       "  <tbody>\n",
       "    <tr>\n",
       "      <th>0</th>\n",
       "      <td>0.140082</td>\n",
       "      <td>1.927722</td>\n",
       "      <td>9.666667</td>\n",
       "      <td>13.050424</td>\n",
       "      <td>0.108009</td>\n",
       "      <td>0.025644</td>\n",
       "      <td>0.063352</td>\n",
       "      <td>-0.150793</td>\n",
       "      <td>0.083833</td>\n",
       "      <td>0.006556</td>\n",
       "      <td>0.036135</td>\n",
       "      <td>0.588843</td>\n",
       "      <td>-0.025626</td>\n",
       "      <td>0.075217</td>\n",
       "      <td>-3.266544</td>\n",
       "      <td>0.000842</td>\n",
       "      <td>0</td>\n",
       "      <td>27</td>\n",
       "    </tr>\n",
       "    <tr>\n",
       "      <th>1</th>\n",
       "      <td>0.110296</td>\n",
       "      <td>1.513884</td>\n",
       "      <td>10.333333</td>\n",
       "      <td>10.587024</td>\n",
       "      <td>0.113399</td>\n",
       "      <td>0.011723</td>\n",
       "      <td>0.051145</td>\n",
       "      <td>-0.106041</td>\n",
       "      <td>0.069044</td>\n",
       "      <td>0.004046</td>\n",
       "      <td>0.030241</td>\n",
       "      <td>0.636949</td>\n",
       "      <td>-0.011714</td>\n",
       "      <td>0.061025</td>\n",
       "      <td>-2.916992</td>\n",
       "      <td>0.000678</td>\n",
       "      <td>0</td>\n",
       "      <td>27</td>\n",
       "    </tr>\n",
       "    <tr>\n",
       "      <th>2</th>\n",
       "      <td>0.092105</td>\n",
       "      <td>1.259206</td>\n",
       "      <td>10.000000</td>\n",
       "      <td>8.259146</td>\n",
       "      <td>0.109490</td>\n",
       "      <td>0.004074</td>\n",
       "      <td>0.039899</td>\n",
       "      <td>-0.074507</td>\n",
       "      <td>0.063078</td>\n",
       "      <td>0.002315</td>\n",
       "      <td>0.030243</td>\n",
       "      <td>0.679395</td>\n",
       "      <td>-0.004066</td>\n",
       "      <td>0.048415</td>\n",
       "      <td>-2.494197</td>\n",
       "      <td>0.000552</td>\n",
       "      <td>1</td>\n",
       "      <td>23</td>\n",
       "    </tr>\n",
       "    <tr>\n",
       "      <th>3</th>\n",
       "      <td>0.160030</td>\n",
       "      <td>2.224544</td>\n",
       "      <td>10.000000</td>\n",
       "      <td>16.377881</td>\n",
       "      <td>0.100938</td>\n",
       "      <td>0.052523</td>\n",
       "      <td>0.079504</td>\n",
       "      <td>-0.186571</td>\n",
       "      <td>0.093419</td>\n",
       "      <td>0.009781</td>\n",
       "      <td>0.039544</td>\n",
       "      <td>0.605646</td>\n",
       "      <td>-0.052484</td>\n",
       "      <td>0.088825</td>\n",
       "      <td>-3.570959</td>\n",
       "      <td>0.001021</td>\n",
       "      <td>1</td>\n",
       "      <td>27</td>\n",
       "    </tr>\n",
       "    <tr>\n",
       "      <th>4</th>\n",
       "      <td>0.051452</td>\n",
       "      <td>0.739716</td>\n",
       "      <td>9.666667</td>\n",
       "      <td>4.432552</td>\n",
       "      <td>0.118829</td>\n",
       "      <td>0.000770</td>\n",
       "      <td>0.021517</td>\n",
       "      <td>-0.047927</td>\n",
       "      <td>0.035715</td>\n",
       "      <td>0.000845</td>\n",
       "      <td>0.018044</td>\n",
       "      <td>0.655110</td>\n",
       "      <td>-0.000768</td>\n",
       "      <td>0.029428</td>\n",
       "      <td>-2.283610</td>\n",
       "      <td>0.000320</td>\n",
       "      <td>0</td>\n",
       "      <td>53</td>\n",
       "    </tr>\n",
       "  </tbody>\n",
       "</table>\n",
       "</div>"
      ],
      "text/plain": [
       "   rms_feat  integral_signal  zero_crossings  waveform_length  \\\n",
       "0  0.140082         1.927722        9.666667        13.050424   \n",
       "1  0.110296         1.513884       10.333333        10.587024   \n",
       "2  0.092105         1.259206       10.000000         8.259146   \n",
       "3  0.160030         2.224544       10.000000        16.377881   \n",
       "4  0.051452         0.739716        9.666667         4.432552   \n",
       "\n",
       "   auto_regressive_coefficients  temporal_moment  avg_amp_change  min_value  \\\n",
       "0                      0.108009         0.025644        0.063352  -0.150793   \n",
       "1                      0.113399         0.011723        0.051145  -0.106041   \n",
       "2                      0.109490         0.004074        0.039899  -0.074507   \n",
       "3                      0.100938         0.052523        0.079504  -0.186571   \n",
       "4                      0.118829         0.000770        0.021517  -0.047927   \n",
       "\n",
       "   max_value  variance  log_detector  linear_env   v_order  modified_mav  \\\n",
       "0   0.083833  0.006556      0.036135    0.588843 -0.025626      0.075217   \n",
       "1   0.069044  0.004046      0.030241    0.636949 -0.011714      0.061025   \n",
       "2   0.063078  0.002315      0.030243    0.679395 -0.004066      0.048415   \n",
       "3   0.093419  0.009781      0.039544    0.605646 -0.052484      0.088825   \n",
       "4   0.035715  0.000845      0.018044    0.655110 -0.000768      0.029428   \n",
       "\n",
       "   skewness  fourier_series  status  Age  \n",
       "0 -3.266544        0.000842       0   27  \n",
       "1 -2.916992        0.000678       0   27  \n",
       "2 -2.494197        0.000552       1   23  \n",
       "3 -3.570959        0.001021       1   27  \n",
       "4 -2.283610        0.000320       0   53  "
      ]
     },
     "execution_count": 25,
     "metadata": {},
     "output_type": "execute_result"
    }
   ],
   "source": [
    "df = pd.read_csv('balanced_dataset_m.csv')\n",
    "df.head()"
   ]
  },
  {
   "cell_type": "code",
   "execution_count": 26,
   "metadata": {},
   "outputs": [
    {
     "name": "stdout",
     "output_type": "stream",
     "text": [
      "(8000, 18)\n",
      "rms_feat                        0\n",
      "integral_signal                 0\n",
      "zero_crossings                  0\n",
      "waveform_length                 0\n",
      "auto_regressive_coefficients    0\n",
      "temporal_moment                 0\n",
      "avg_amp_change                  0\n",
      "min_value                       0\n",
      "max_value                       0\n",
      "variance                        0\n",
      "log_detector                    0\n",
      "linear_env                      0\n",
      "v_order                         0\n",
      "modified_mav                    0\n",
      "skewness                        0\n",
      "fourier_series                  0\n",
      "status                          0\n",
      "Age                             0\n",
      "dtype: int64\n"
     ]
    }
   ],
   "source": [
    "print(df.shape)\n",
    "print(df.isna().sum())"
   ]
  },
  {
   "cell_type": "code",
   "execution_count": 27,
   "metadata": {},
   "outputs": [],
   "source": [
    "from sklearn.decomposition import PCA\n",
    "from sklearn.decomposition import LatentDirichletAllocation as LDA\n",
    "from sklearn.preprocessing import StandardScaler, Normalizer\n",
    "from sklearn.pipeline import Pipeline"
   ]
  },
  {
   "cell_type": "code",
   "execution_count": 28,
   "metadata": {},
   "outputs": [],
   "source": [
    "x = df.drop('status', axis = 1)\n",
    "y = df['status']\n",
    "x_train, x_test, y_train, y_test = train_test_split(x, y , random_state = 2, test_size=0.3)"
   ]
  },
  {
   "cell_type": "code",
   "execution_count": 29,
   "metadata": {},
   "outputs": [
    {
     "name": "stdout",
     "output_type": "stream",
     "text": [
      "0.9816666666666667\n",
      "1.0\n"
     ]
    }
   ],
   "source": [
    "pipeline = Pipeline([\n",
    "    ('scaler', MinMaxScaler()),\n",
    "    #('lda', LDA()),  # Keep 85% of the variance\n",
    "    ('classifier', RandomForestClassifier())\n",
    "])\n",
    "\n",
    "# Training the pipeline\n",
    "pipeline.fit(x_train, y_train)\n",
    "y_pred = pipeline.predict(x_test)\n",
    "# Evaluating the model\n",
    "print(pipeline.score(x_test, y_test))\n",
    "print(pipeline.score(x_train, y_train))\n"
   ]
  },
  {
   "cell_type": "markdown",
   "metadata": {},
   "source": [
    "# Models"
   ]
  },
  {
   "cell_type": "markdown",
   "metadata": {},
   "source": [
    "## Random Forest"
   ]
  },
  {
   "cell_type": "code",
   "execution_count": 30,
   "metadata": {},
   "outputs": [],
   "source": [
    "# Define the parameter grid to search\n",
    "param_grid = {\n",
    "    'n_estimators': [100, 200, 300],\n",
    "    'max_depth': [None, 10, 20],\n",
    "    'min_samples_split': [2, 5, 10],\n",
    "    'min_samples_leaf': [1, 2, 4, 6, 8]\n",
    "}\n",
    "\n",
    "# Initialize Random Forest classifier\n",
    "random_forest = RandomForestClassifier(random_state=4, class_weight='balanced')\n",
    "\n",
    "kf = KFold(n_splits = 5, shuffle = True, random_state = 10)\n",
    "\n",
    "# Initialize GridSearchCV\n",
    "grid_search_RF = GridSearchCV(estimator=random_forest, param_grid=param_grid, cv=kf, n_jobs=-1, verbose=2)"
   ]
  },
  {
   "cell_type": "code",
   "execution_count": 31,
   "metadata": {},
   "outputs": [
    {
     "name": "stdout",
     "output_type": "stream",
     "text": [
      "Fitting 5 folds for each of 135 candidates, totalling 675 fits\n"
     ]
    },
    {
     "name": "stdout",
     "output_type": "stream",
     "text": [
      "Optimal number of params: {'max_depth': 20, 'min_samples_leaf': 1, 'min_samples_split': 2, 'n_estimators': 300}\n",
      "Best score: 0.9816071428571428\n"
     ]
    }
   ],
   "source": [
    "grid_search_RF.fit(x_train, y_train)\n",
    "\n",
    "RF_standard_noFeaturesRemoved_best_params = grid_search_RF.best_params_\n",
    "RF_standard_noFeaturesRemoved_best_score = grid_search_RF.best_score_\n",
    "\n",
    "print('Optimal number of params:', RF_standard_noFeaturesRemoved_best_params)\n",
    "print('Best score:', RF_standard_noFeaturesRemoved_best_score)"
   ]
  },
  {
   "cell_type": "code",
   "execution_count": 33,
   "metadata": {},
   "outputs": [
    {
     "name": "stdout",
     "output_type": "stream",
     "text": [
      "Accuracy of Random Forest classifier: 0.9825\n",
      "Recall of Random Forest classifier: 0.9825145711906744\n",
      "F1 Score of Random Forest classifier: 0.9825145711906744\n",
      "Classification Report:\n",
      "              precision    recall  f1-score   support\n",
      "\n",
      "           0       0.98      0.98      0.98      1199\n",
      "           1       0.98      0.98      0.98      1201\n",
      "\n",
      "    accuracy                           0.98      2400\n",
      "   macro avg       0.98      0.98      0.98      2400\n",
      "weighted avg       0.98      0.98      0.98      2400\n",
      "\n",
      "Confusion Matrix:\n",
      "[[1178   21]\n",
      " [  21 1180]]\n"
     ]
    }
   ],
   "source": [
    "# Predict on the test set\n",
    "y_pred_rf = grid_search_RF.predict(x_test)\n",
    "\n",
    "# Evaluate the model\n",
    "accuracy_rf_1 = accuracy_score(y_test, y_pred_rf)\n",
    "print(\"Accuracy of Random Forest classifier:\", accuracy_rf_1)\n",
    "recall_rf_1 = recall_score(y_test, y_pred_rf)\n",
    "print(\"Recall of Random Forest classifier:\", recall_rf_1)\n",
    "f1score_rf_1 = f1_score(y_test, y_pred_rf)\n",
    "print(\"F1 Score of Random Forest classifier:\", f1score_rf_1)\n",
    "\n",
    "# Display classification report and confusion matrix\n",
    "print(\"Classification Report:\")\n",
    "print(classification_report(y_test, y_pred_rf))\n",
    "print(\"Confusion Matrix:\")\n",
    "print(confusion_matrix(y_test, y_pred_rf))"
   ]
  },
  {
   "cell_type": "markdown",
   "metadata": {},
   "source": [
    "## SVM"
   ]
  },
  {
   "cell_type": "code",
   "execution_count": 34,
   "metadata": {},
   "outputs": [],
   "source": [
    "svm = SVC()\n",
    "\n",
    "kf = KFold(n_splits = 5, shuffle = True, random_state = 42)\n",
    "param_grid = {'C': [0.0001, 0.001, 0.1, 1],\n",
    "              'gamma': [0.01, 0.1, 1, 10],\n",
    "              'kernel': ['linear', 'rbf']}\n",
    "\n",
    "svm_gridsearchcv = GridSearchCV(svm, param_grid, cv=kf )"
   ]
  },
  {
   "cell_type": "code",
   "execution_count": 35,
   "metadata": {},
   "outputs": [
    {
     "name": "stdout",
     "output_type": "stream",
     "text": [
      "Optimal params: {'C': 1, 'gamma': 10, 'kernel': 'rbf'}\n",
      "Best score: 0.9428571428571428\n"
     ]
    }
   ],
   "source": [
    "svm_gridsearchcv.fit(x_train, y_train)\n",
    "\n",
    "svm_standard_noFeaturesRemoved_best_params = svm_gridsearchcv.best_params_\n",
    "svm_standard_noFeaturesRemoved_best_score = svm_gridsearchcv.best_score_\n",
    "\n",
    "print('Optimal params:', svm_standard_noFeaturesRemoved_best_params)\n",
    "print('Best score:', svm_standard_noFeaturesRemoved_best_score)"
   ]
  },
  {
   "cell_type": "code",
   "execution_count": 36,
   "metadata": {},
   "outputs": [
    {
     "name": "stdout",
     "output_type": "stream",
     "text": [
      "Accuracy of SVM classifier: 0.9383333333333334\n",
      "Recall of SVM classifier: 0.9267277268942548\n",
      "F1 of SVM: 0.9376579612468408\n",
      "\n",
      "Confusion Matrix:\n",
      "[[1139   60]\n",
      " [  88 1113]]\n",
      "\n",
      "Classification Report:\n",
      "              precision    recall  f1-score   support\n",
      "\n",
      "           0       0.93      0.95      0.94      1199\n",
      "           1       0.95      0.93      0.94      1201\n",
      "\n",
      "    accuracy                           0.94      2400\n",
      "   macro avg       0.94      0.94      0.94      2400\n",
      "weighted avg       0.94      0.94      0.94      2400\n",
      "\n"
     ]
    }
   ],
   "source": [
    "y_pred = svm_gridsearchcv.predict(x_test)\n",
    "\n",
    "svm_standard_noFeaturesRemoved_accuracy_score = svm_gridsearchcv.score(x_test, y_test)\n",
    "print('Accuracy of SVM classifier:', svm_standard_noFeaturesRemoved_accuracy_score)\n",
    "\n",
    "svm_standard_noFeaturesRemoved_recall_score = recall_score(y_test, y_pred)\n",
    "print(\"Recall of SVM classifier:\", svm_standard_noFeaturesRemoved_recall_score)\n",
    "\n",
    "svm_standard_noFeaturesRemoved_f1_score = f1_score(y_test, y_pred)\n",
    "print(\"F1 of SVM:\", svm_standard_noFeaturesRemoved_f1_score)\n",
    "\n",
    "print('\\nConfusion Matrix:')\n",
    "print(confusion_matrix(y_test, y_pred))\n",
    "print('\\nClassification Report:')\n",
    "print(classification_report(y_test, y_pred))"
   ]
  },
  {
   "cell_type": "code",
   "execution_count": 37,
   "metadata": {},
   "outputs": [],
   "source": [
    "from sklearn.linear_model import LogisticRegression\n",
    "from sklearn.model_selection import train_test_split, GridSearchCV\n",
    "from sklearn.metrics import accuracy_score, confusion_matrix\n",
    "from scipy.stats import uniform"
   ]
  },
  {
   "cell_type": "code",
   "execution_count": 38,
   "metadata": {},
   "outputs": [],
   "source": [
    "logistic_regression = LogisticRegression(max_iter=1000)\n",
    "\n",
    "param_grid = [\n",
    "    {'solver' : ['newton-cg'],\n",
    "      'penalty' : ['l2'],\n",
    "      'max_iter' : [50,100,200,500,1000,2500],\n",
    "      'C' : [0.001, 0.01, 0.1, 1, 10, 100, 1000]},\n",
    "]\n",
    "\n",
    "kf = KFold(n_splits = 5, shuffle = True, random_state = 4)\n",
    "\n",
    "logistic_regression_grid_search = GridSearchCV(logistic_regression, param_grid=param_grid, cv=kf, error_score='raise')"
   ]
  },
  {
   "cell_type": "code",
   "execution_count": 39,
   "metadata": {},
   "outputs": [
    {
     "name": "stdout",
     "output_type": "stream",
     "text": [
      "Optimal number of params: {'C': 1000, 'max_iter': 50, 'penalty': 'l2', 'solver': 'newton-cg'}\n",
      "Best score: 0.8926785714285714\n"
     ]
    }
   ],
   "source": [
    "logistic_regression_grid_search.fit(x_train, y_train)\n",
    "\n",
    "logistic_regression_standard_noFeaturesRemoved_best_params = logistic_regression_grid_search.best_params_\n",
    "logistic_regression_standard_noFeaturesRemoved_best_score = logistic_regression_grid_search.best_score_\n",
    "\n",
    "print('Optimal number of params:', logistic_regression_standard_noFeaturesRemoved_best_params)\n",
    "print('Best score:', logistic_regression_standard_noFeaturesRemoved_best_score)"
   ]
  },
  {
   "cell_type": "code",
   "execution_count": 40,
   "metadata": {},
   "outputs": [
    {
     "name": "stdout",
     "output_type": "stream",
     "text": [
      "Accuracy of Logistic Regression classifier: 0.895\n",
      "Recall of Logistic Regression classifier: 0.8825978351373855\n",
      "F1 Score of Logistic Regression classifier: 0.893760539629005\n",
      "Classification Report:\n",
      "              precision    recall  f1-score   support\n",
      "\n",
      "           0       0.89      0.91      0.90      1199\n",
      "           1       0.91      0.88      0.89      1201\n",
      "\n",
      "    accuracy                           0.90      2400\n",
      "   macro avg       0.90      0.90      0.89      2400\n",
      "weighted avg       0.90      0.90      0.89      2400\n",
      "\n",
      "Confusion Matrix:\n",
      "[[1088  111]\n",
      " [ 141 1060]]\n"
     ]
    }
   ],
   "source": [
    "# Predict on the test set\n",
    "y_pred_logistic_regression = logistic_regression_grid_search.predict(x_test)\n",
    "\n",
    "# Evaluate the model\n",
    "accuracy_logreg_1 = accuracy_score(y_test, y_pred_logistic_regression)\n",
    "print(\"Accuracy of Logistic Regression classifier:\", accuracy_logreg_1)\n",
    "recall_logreg_1 = recall_score(y_test, y_pred_logistic_regression)\n",
    "print(\"Recall of Logistic Regression classifier:\", recall_logreg_1)\n",
    "f1score_logreg_1 = f1_score(y_test, y_pred_logistic_regression)\n",
    "print(\"F1 Score of Logistic Regression classifier:\", f1score_logreg_1)\n",
    "\n",
    "# Display classification report and confusion matrix\n",
    "print(\"Classification Report:\")\n",
    "print(classification_report(y_test, y_pred_logistic_regression))\n",
    "print(\"Confusion Matrix:\")\n",
    "print(confusion_matrix(y_test, y_pred_logistic_regression))"
   ]
  }
 ],
 "metadata": {
  "kernelspec": {
   "display_name": "Python 3",
   "language": "python",
   "name": "python3"
  },
  "language_info": {
   "codemirror_mode": {
    "name": "ipython",
    "version": 3
   },
   "file_extension": ".py",
   "mimetype": "text/x-python",
   "name": "python",
   "nbconvert_exporter": "python",
   "pygments_lexer": "ipython3",
   "version": "3.11.9"
  }
 },
 "nbformat": 4,
 "nbformat_minor": 2
}
